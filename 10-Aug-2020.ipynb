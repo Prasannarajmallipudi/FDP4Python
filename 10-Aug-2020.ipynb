{
 "cells": [
  {
   "cell_type": "markdown",
   "metadata": {},
   "source": [
    "#### Today's Topics\n",
    "\n",
    "### File handling Techniques\n",
    "### Functional Programming"
   ]
  },
  {
   "cell_type": "markdown",
   "metadata": {},
   "source": [
    "### File handling Techniques\n",
    "- File?\n",
    "- File is a collection of records\n",
    "- to store the data\n",
    "- Collection of data at one place\n",
    "\n",
    "### Python File Operations\n",
    "- open() - Open a File\n",
    "    - Syntax : open(filename,mode)\n",
    "- write() - to write a data ina file\n",
    "    - syntax : write(filename,mode)\n",
    "- read()  - read method used to read the data in a file\n",
    "    - syntax : read(filename,mode)\n",
    "- append() - the data added a file.\n",
    "    - syntax : write(filename,mode)\n",
    "    \n",
    "### Modes\n",
    "- write(w)\n",
    "- read(r)\n",
    "- append(a)"
   ]
  },
  {
   "cell_type": "code",
   "execution_count": 2,
   "metadata": {},
   "outputs": [
    {
     "name": "stdout",
     "output_type": "stream",
     "text": [
      "M Prasanna Raj\n",
      "Multi skill Trainer\n",
      "APSSDC\n",
      "Vijayawada\n",
      "prasannaraj.m@apssdc.in\n"
     ]
    }
   ],
   "source": [
    "f = open('sample.txt','r')\n",
    "res = f.read()\n",
    "print(res)"
   ]
  },
  {
   "cell_type": "code",
   "execution_count": 7,
   "metadata": {},
   "outputs": [
    {
     "name": "stdout",
     "output_type": "stream",
     "text": [
      "for i in range(1, 11)[::-1]:\n",
      "    \n",
      "    print(i)\n",
      "\n"
     ]
    }
   ],
   "source": [
    "f = open('raj.py','r')\n",
    "res = f.read()\n",
    "print(res)"
   ]
  },
  {
   "cell_type": "code",
   "execution_count": 9,
   "metadata": {},
   "outputs": [
    {
     "name": "stdout",
     "output_type": "stream",
     "text": [
      "Write data Sucessfully\n"
     ]
    }
   ],
   "source": [
    "# Write Method\n",
    "\n",
    "f = open('sample.txt','w') # Opening a file\n",
    "data = \" Python workshop_FDP\"\n",
    "f.write(data)\n",
    "f.close() # Closing a file\n",
    "print(\"Write data Sucessfully\")"
   ]
  },
  {
   "cell_type": "code",
   "execution_count": 14,
   "metadata": {},
   "outputs": [
    {
     "name": "stdout",
     "output_type": "stream",
     "text": [
      "ENter a data one txt file\n",
      "Data Added Sucessfully\n"
     ]
    }
   ],
   "source": [
    "# Append()\n",
    "f = open('C:/Users/lenovo/Desktop/APSSDC GIT/one.txt','a')\n",
    "data = input(\"ENter a data\")\n",
    "f.write(data)\n",
    "f.close()\n",
    "print(\"Data Added Sucessfully\")"
   ]
  },
  {
   "cell_type": "code",
   "execution_count": 24,
   "metadata": {},
   "outputs": [
    {
     "name": "stdout",
     "output_type": "stream",
     "text": [
      "for i in range(1, 11)[::-1]:\n",
      "    \n",
      "    print(i)\n",
      " New Data Added in to old sample file \n"
     ]
    }
   ],
   "source": [
    "f = open('raj.py','r')\n",
    "res = f.read()\n",
    "print(res)"
   ]
  },
  {
   "cell_type": "code",
   "execution_count": 16,
   "metadata": {},
   "outputs": [
    {
     "name": "stdout",
     "output_type": "stream",
     "text": [
      "Write data Sucessfully\n"
     ]
    }
   ],
   "source": [
    "f = open('sample.txt','w') # Opening a file\n",
    "data = \" Python workshop_SIP\"\n",
    "f.write(data)\n",
    "f.close() # Closing a file\n",
    "print(\"Write data Sucessfully\")"
   ]
  },
  {
   "cell_type": "code",
   "execution_count": 23,
   "metadata": {},
   "outputs": [
    {
     "name": "stdout",
     "output_type": "stream",
     "text": [
      "Append data Sucess\n",
      "<_io.TextIOWrapper name='raj.py' mode='a' encoding='cp1252'>\n"
     ]
    }
   ],
   "source": [
    "with open('raj.py','a') as raj:\n",
    "    data = \" New Data Added in to old sample file \"\n",
    "    raj.write(data)\n",
    "    print(\"Append data Sucess\")\n",
    "    print(raj)"
   ]
  },
  {
   "cell_type": "code",
   "execution_count": 21,
   "metadata": {},
   "outputs": [
    {
     "name": "stdout",
     "output_type": "stream",
     "text": [
      "<class '_io.TextIOWrapper'>\n"
     ]
    }
   ],
   "source": [
    "print(type(raj))"
   ]
  },
  {
   "cell_type": "markdown",
   "metadata": {},
   "source": [
    "###  Functional Programming\n",
    "\n",
    "- Functioanl programming decomposes a problem in to set of inbuilt functins,inbuilt functions takes inputs and produces an outputs based on functions\n",
    "    - List,Tuple,Dict Comprehesions\n",
    "    - map Function\n",
    "    - create of lambda function"
   ]
  },
  {
   "cell_type": "code",
   "execution_count": 25,
   "metadata": {},
   "outputs": [
    {
     "name": "stdout",
     "output_type": "stream",
     "text": [
      "{0: 0, 1: 1, 2: 4, 3: 9, 4: 16, 5: 25, 6: 36, 7: 49, 8: 64}\n"
     ]
    }
   ],
   "source": [
    "suqres = {x:x*x for x in range(9)}\n",
    "print(suqres)"
   ]
  },
  {
   "cell_type": "code",
   "execution_count": 27,
   "metadata": {},
   "outputs": [
    {
     "data": {
      "text/plain": [
       "[1, 2, 3, 4, 5, 6, 7, 8, 9, 10]"
      ]
     },
     "execution_count": 27,
     "metadata": {},
     "output_type": "execute_result"
    }
   ],
   "source": [
    "# range(10)\n",
    "list((i for i in range(1,10+1)))"
   ]
  },
  {
   "cell_type": "code",
   "execution_count": 28,
   "metadata": {},
   "outputs": [
    {
     "data": {
      "text/plain": [
       "(0, 1, 2, 3, 4)"
      ]
     },
     "execution_count": 28,
     "metadata": {},
     "output_type": "execute_result"
    }
   ],
   "source": [
    "tuple((i for i in range(5)))"
   ]
  },
  {
   "cell_type": "code",
   "execution_count": 30,
   "metadata": {},
   "outputs": [
    {
     "data": {
      "text/plain": [
       "[1, 3, 5, 7, 9]"
      ]
     },
     "execution_count": 30,
     "metadata": {},
     "output_type": "execute_result"
    }
   ],
   "source": [
    "# Print even numbers only using list Comprehesions\n",
    "# range(10+1)\n",
    "\n",
    "list((i for i in range(1,11) if i%2!=0))"
   ]
  },
  {
   "cell_type": "code",
   "execution_count": 31,
   "metadata": {},
   "outputs": [
    {
     "data": {
      "text/plain": [
       "(1, 3, 5, 7, 9)"
      ]
     },
     "execution_count": 31,
     "metadata": {},
     "output_type": "execute_result"
    }
   ],
   "source": [
    "tuple((i for i in range(1,11) if i%2!=0))"
   ]
  },
  {
   "cell_type": "code",
   "execution_count": 38,
   "metadata": {},
   "outputs": [
    {
     "data": {
      "text/plain": [
       "(1, 3, 5, 7, 9)"
      ]
     },
     "execution_count": 38,
     "metadata": {},
     "output_type": "execute_result"
    }
   ],
   "source": [
    "tuple((i for i in range(1,11,2)))"
   ]
  },
  {
   "cell_type": "code",
   "execution_count": 41,
   "metadata": {},
   "outputs": [
    {
     "ename": "SyntaxError",
     "evalue": "invalid syntax (<ipython-input-41-5bfa85e27680>, line 1)",
     "output_type": "error",
     "traceback": [
      "\u001b[1;36m  File \u001b[1;32m\"<ipython-input-41-5bfa85e27680>\"\u001b[1;36m, line \u001b[1;32m1\u001b[0m\n\u001b[1;33m    list(i for i in range(0,10+1,2) if(i==4): break)\u001b[0m\n\u001b[1;37m                                            ^\u001b[0m\n\u001b[1;31mSyntaxError\u001b[0m\u001b[1;31m:\u001b[0m invalid syntax\n"
     ]
    }
   ],
   "source": [
    "list(i for i in range(0,10+1,2) if(i==4))\n"
   ]
  },
  {
   "cell_type": "code",
   "execution_count": 45,
   "metadata": {},
   "outputs": [
    {
     "data": {
      "text/plain": [
       "[1, 4, 9, 16, 25, 36, 49, 64, 81, 100]"
      ]
     },
     "execution_count": 45,
     "metadata": {},
     "output_type": "execute_result"
    }
   ],
   "source": [
    "# Map Function\n",
    "# - map is an inbulit function in python which maps all the elements in an iterable to a particuler function thats we have given map as argument\n",
    "# Squres range(1,10)\n",
    "\n",
    "#map(functionname,iterable) \n",
    "\n",
    "def raj(n):\n",
    "    return n ** 2 \n",
    "list(map(raj,range(1,10+1)))"
   ]
  },
  {
   "cell_type": "code",
   "execution_count": 46,
   "metadata": {},
   "outputs": [
    {
     "name": "stdout",
     "output_type": "stream",
     "text": [
      "Enter a values1 2 3 4 5 6 7 8 9 \n"
     ]
    }
   ],
   "source": [
    "# list of integers as input in a single line\n",
    "S = input(\"Enter a values\")"
   ]
  },
  {
   "cell_type": "code",
   "execution_count": 47,
   "metadata": {},
   "outputs": [
    {
     "name": "stdout",
     "output_type": "stream",
     "text": [
      "1 2 3 4 5 6 7 8 9 \n"
     ]
    }
   ],
   "source": [
    "print(S)"
   ]
  },
  {
   "cell_type": "code",
   "execution_count": 50,
   "metadata": {},
   "outputs": [
    {
     "data": {
      "text/plain": [
       "(1, 2, 3, 4, 5, 6, 7, 8, 9)"
      ]
     },
     "execution_count": 50,
     "metadata": {},
     "output_type": "execute_result"
    }
   ],
   "source": [
    "#[1,2,3,4,5,6,7,8,9]\n",
    "\n",
    "tuple(map(int,S.split()))"
   ]
  },
  {
   "cell_type": "code",
   "execution_count": 51,
   "metadata": {},
   "outputs": [
    {
     "name": "stdout",
     "output_type": "stream",
     "text": [
      "Enter a values1 2 41 21235 1429 24 22\n"
     ]
    },
    {
     "data": {
      "text/plain": [
       "[1, 2, 41, 21235, 1429, 24, 22]"
      ]
     },
     "execution_count": 51,
     "metadata": {},
     "output_type": "execute_result"
    }
   ],
   "source": [
    "list(map(int,input(\"Enter a values\").split()))"
   ]
  },
  {
   "cell_type": "code",
   "execution_count": 53,
   "metadata": {},
   "outputs": [
    {
     "data": {
      "text/plain": [
       "'\\nvar = lambda arguments:statements\\nz(arguments)\\n'"
      ]
     },
     "execution_count": 53,
     "metadata": {},
     "output_type": "execute_result"
    }
   ],
   "source": [
    "# Creation of function using lambda\n",
    "# Using lambda we can create any anonmous function ina single line\n",
    "\"\"\"\n",
    "var = lambda arguments:statements\n",
    "z(arguments)\n",
    "\"\"\""
   ]
  },
  {
   "cell_type": "code",
   "execution_count": 59,
   "metadata": {},
   "outputs": [
    {
     "data": {
      "text/plain": [
       "375"
      ]
     },
     "execution_count": 59,
     "metadata": {},
     "output_type": "execute_result"
    }
   ],
   "source": [
    "# sum of 2 numbers\n",
    "\n",
    "sumtwonumbers = lambda x,y:x*y\n",
    "\n",
    "sumtwonumbers(15,25)"
   ]
  },
  {
   "cell_type": "code",
   "execution_count": 63,
   "metadata": {},
   "outputs": [
    {
     "data": {
      "text/plain": [
       "[True, False, True, False, True, False]"
      ]
     },
     "execution_count": 63,
     "metadata": {},
     "output_type": "execute_result"
    }
   ],
   "source": [
    "evenval = lambda n:n%2==0\n",
    "#evenval(3)\n",
    "[evenval(i) for i in range(6) ]"
   ]
  },
  {
   "cell_type": "code",
   "execution_count": 66,
   "metadata": {},
   "outputs": [
    {
     "data": {
      "text/plain": [
       "['Avinash', 'Akash', 'Akesh']"
      ]
     },
     "execution_count": 66,
     "metadata": {},
     "output_type": "execute_result"
    }
   ],
   "source": [
    "# Filter Function\n",
    "\n",
    "s = lambda start:start.startswith('A') and start.endswith('h')\n",
    "name=['Avi','Avinash','Akash','Aaradhya','Akesh']\n",
    "list(filter(s,name))"
   ]
  },
  {
   "cell_type": "code",
   "execution_count": null,
   "metadata": {},
   "outputs": [],
   "source": []
  }
 ],
 "metadata": {
  "kernelspec": {
   "display_name": "Python 3",
   "language": "python",
   "name": "python3"
  },
  "language_info": {
   "codemirror_mode": {
    "name": "ipython",
    "version": 3
   },
   "file_extension": ".py",
   "mimetype": "text/x-python",
   "name": "python",
   "nbconvert_exporter": "python",
   "pygments_lexer": "ipython3",
   "version": "3.7.6"
  }
 },
 "nbformat": 4,
 "nbformat_minor": 4
}
